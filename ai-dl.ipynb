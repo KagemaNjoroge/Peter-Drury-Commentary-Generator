{
 "cells": [
  {
   "cell_type": "code",
   "execution_count": 1,
   "metadata": {},
   "outputs": [],
   "source": [
    "import torch\n",
    "import numpy as np\n",
    "import matplotlib.pyplot as plt\n",
    "import math"
   ]
  },
  {
   "cell_type": "code",
   "execution_count": 15,
   "metadata": {},
   "outputs": [
    {
     "data": {
      "text/plain": [
       "(tensor([[ True,  True,  True,  True],\n",
       "         [ True,  True,  True,  True],\n",
       "         [False, False, False, False]]),\n",
       " tensor([[35.0000,  0.0000,  0.0000,  0.0000],\n",
       "         [35.0000, 35.0000,  0.0000,  0.0000],\n",
       "         [ 0.1761,  0.2595,  0.7086,  0.0000]]),\n",
       " tensor([18, 34, 50]))"
      ]
     },
     "execution_count": 15,
     "metadata": {},
     "output_type": "execute_result"
    }
   ],
   "source": [
    "torch.manual_seed(1337)\n",
    "X = torch.rand(12).reshape((3, -1))\n",
    "Y = torch.tensor([[3, 4, 5, 6], [7, 8, 9, 10], [11, 12, 13, 14]])\n",
    "# 18, 34, 50 = 102\n",
    "\n",
    "torch.manual_seed(1337)\n",
    "Z = torch.rand(12).reshape((3, -1))\n",
    "Z[:2, :] = 35\n",
    "v = torch.cat((X, Y), dim=0)\n",
    "w = torch.cat((X, Y), dim=1)\n",
    "X!=Z, torch.tril(Z), Y.sum(dim=1)"
   ]
  },
  {
   "cell_type": "code",
   "execution_count": 16,
   "metadata": {},
   "outputs": [
    {
     "data": {
      "text/plain": [
       "(tensor([[0],\n",
       "         [1],\n",
       "         [2]]),\n",
       " tensor([[0, 1]]))"
      ]
     },
     "execution_count": 16,
     "metadata": {},
     "output_type": "execute_result"
    }
   ],
   "source": [
    "a = torch.arange(3).reshape((3, 1))\n",
    "b = torch.arange(2).reshape((1, 2))\n",
    "a, b"
   ]
  },
  {
   "cell_type": "markdown",
   "metadata": {},
   "source": [
    "## Rules of matrix multiplication\n",
    "<u>**Inner dimensions must match**</u>  \n",
    "- (3, 2) @ (2, 9) - will work because 2==2  \n",
    "<u>**Commutative rule of multiplication does not hold!**</u>  \n",
    "- AB != BA  \n",
    "<u>**Associative property of multiplication**</u>  \n",
    "- (AB)C = B(AC)  \n",
    "<u>**Distributive property of multiplication**</u>  \n",
    "- A(B + C) = AB + AC  \n",
    "<u>**Dimension property**</u>  \n",
    "- The product of `m x n` and `n x k` is a `m x k` matrix  \n",
    "(3, 2) @ (2,3) = (3,3)"
   ]
  },
  {
   "cell_type": "code",
   "execution_count": 28,
   "metadata": {},
   "outputs": [
    {
     "ename": "RuntimeError",
     "evalue": "The expanded size of the tensor (4) must match the existing size (3) at non-singleton dimension 0.  Target sizes: [4, 3].  Tensor sizes: [3, 3]",
     "output_type": "error",
     "traceback": [
      "\u001b[1;31m---------------------------------------------------------------------------\u001b[0m",
      "\u001b[1;31mRuntimeError\u001b[0m                              Traceback (most recent call last)",
      "Cell \u001b[1;32mIn[28], line 4\u001b[0m\n\u001b[0;32m      2\u001b[0m Y \u001b[38;5;241m=\u001b[39m torch\u001b[38;5;241m.\u001b[39mtensor([[\u001b[38;5;241m3\u001b[39m, \u001b[38;5;241m4\u001b[39m, \u001b[38;5;241m5\u001b[39m, \u001b[38;5;241m6\u001b[39m], [\u001b[38;5;241m7\u001b[39m, \u001b[38;5;241m8\u001b[39m, \u001b[38;5;241m9\u001b[39m, \u001b[38;5;241m10\u001b[39m], [\u001b[38;5;241m11\u001b[39m, \u001b[38;5;241m12\u001b[39m, \u001b[38;5;241m13\u001b[39m, \u001b[38;5;241m14\u001b[39m]], dtype\u001b[38;5;241m=\u001b[39mtorch\u001b[38;5;241m.\u001b[39mfloat32)\n\u001b[0;32m      3\u001b[0m idx \u001b[38;5;241m=\u001b[39m \u001b[38;5;28mid\u001b[39m(X)\n\u001b[1;32m----> 4\u001b[0m X[:] \u001b[38;5;241m=\u001b[39m Y \u001b[38;5;241m@\u001b[39m X\n",
      "\u001b[1;31mRuntimeError\u001b[0m: The expanded size of the tensor (4) must match the existing size (3) at non-singleton dimension 0.  Target sizes: [4, 3].  Tensor sizes: [3, 3]"
     ]
    }
   ],
   "source": [
    "X = torch.rand(12, dtype=torch.float32).reshape((4, -1))\n",
    "Y = torch.tensor([[3, 4, 5, 6], [7, 8, 9, 10], [11, 12, 13, 14]], dtype=torch.float32)\n",
    "idx = id(X)\n",
    "X[:] = Y @ X\n",
    "\n"
   ]
  }
 ],
 "metadata": {
  "kernelspec": {
   "display_name": "base",
   "language": "python",
   "name": "python3"
  },
  "language_info": {
   "codemirror_mode": {
    "name": "ipython",
    "version": 3
   },
   "file_extension": ".py",
   "mimetype": "text/x-python",
   "name": "python",
   "nbconvert_exporter": "python",
   "pygments_lexer": "ipython3",
   "version": "3.11.5"
  }
 },
 "nbformat": 4,
 "nbformat_minor": 2
}
